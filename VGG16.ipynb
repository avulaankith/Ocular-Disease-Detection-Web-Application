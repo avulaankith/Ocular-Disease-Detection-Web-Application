{
 "cells": [
  {
   "cell_type": "code",
   "execution_count": 38,
   "id": "8d8dd507",
   "metadata": {},
   "outputs": [],
   "source": [
    "from keras.models import load_model\n",
    "model = load_model('vgg16_1.h5')"
   ]
  },
  {
   "cell_type": "code",
   "execution_count": 21,
   "id": "7d855bd7",
   "metadata": {},
   "outputs": [],
   "source": [
    "from tensorflow.keras.layers import Input, Lambda, Dense, Flatten,Conv2D\n",
    "from tensorflow.keras.models import Model\n",
    "from tensorflow.keras.applications.vgg19 import VGG19\n",
    "from tensorflow.keras.applications.resnet50 import preprocess_input\n",
    "from tensorflow.keras.preprocessing import image\n",
    "from tensorflow.keras.preprocessing.image import ImageDataGenerator,load_img\n",
    "from tensorflow.keras.models import Sequential\n",
    "import numpy as np\n",
    "from glob import glob\n",
    "import matplotlib.pyplot as plt"
   ]
  },
  {
   "cell_type": "code",
   "execution_count": 39,
   "id": "3376c2e2",
   "metadata": {},
   "outputs": [
    {
     "name": "stdout",
     "output_type": "stream",
     "text": [
      "(224, 224, 3)\n",
      "(1, 224, 224, 3)\n",
      "[1]\n",
      "normal\n"
     ]
    }
   ],
   "source": [
    "img = img=image.load_img('2796_right.jpg',target_size=(224,224))\n",
    "x=image.img_to_array(img)\n",
    "# print(x)\n",
    "print(x.shape)\n",
    "x=x/255\n",
    "x=np.expand_dims(x,axis=0)\n",
    "img_data=x\n",
    "print(img_data.shape)\n",
    "model.predict(img_data)\n",
    "a=np.argmax(model.predict(img_data), axis=1)\n",
    "print(a)\n",
    "if(a==0):\n",
    "    print(\"Cataract\")\n",
    "else:\n",
    "    print(\"normal\")"
   ]
  },
  {
   "cell_type": "code",
   "execution_count": 40,
   "id": "0b819477",
   "metadata": {},
   "outputs": [
    {
     "name": "stdout",
     "output_type": "stream",
     "text": [
      "(224, 224, 3)\n",
      "(1, 224, 224, 3)\n",
      "[1]\n",
      "normal\n"
     ]
    }
   ],
   "source": [
    "img = img=image.load_img('805_right.jpg',target_size=(224,224))\n",
    "x=image.img_to_array(img)\n",
    "# print(x)\n",
    "print(x.shape)\n",
    "x=x/255\n",
    "x=np.expand_dims(x,axis=0)\n",
    "img_data=x\n",
    "print(img_data.shape)\n",
    "model.predict(img_data)\n",
    "a=np.argmax(model.predict(img_data), axis=1)\n",
    "print(a)\n",
    "if(a==0):\n",
    "    print(\"Cataract\")\n",
    "else:\n",
    "    print(\"normal\")"
   ]
  },
  {
   "cell_type": "code",
   "execution_count": 41,
   "id": "1965e64d",
   "metadata": {},
   "outputs": [
    {
     "name": "stdout",
     "output_type": "stream",
     "text": [
      "(224, 224, 3)\n",
      "(224, 224, 3)\n",
      "(224, 224, 3)\n",
      "(3, 224, 224, 3)\n",
      "(3, 224, 224, 3)\n",
      "[[1.53969973e-03 9.98460293e-01]\n",
      " [1.15240006e-07 9.99999881e-01]\n",
      " [9.99637485e-01 3.62538238e-04]]\n",
      "Normal\n",
      "Normal\n",
      "Cataract\n"
     ]
    }
   ],
   "source": [
    "img = image.load_img('2374_left.jpg',target_size=(224,224))\n",
    "x=image.img_to_array(img)\n",
    "# print(x)\n",
    "print(x.shape)\n",
    "x=x/255\n",
    "\n",
    "ls = []\n",
    "ls.append(x)\n",
    "\n",
    "img = image.load_img('805_right.jpg',target_size=(224,224))\n",
    "x=image.img_to_array(img)\n",
    "# print(x)\n",
    "print(x.shape)\n",
    "x=x/255\n",
    "ls.append(x)\n",
    "\n",
    "img = image.load_img('2150_right.jpg',target_size=(224,224))\n",
    "x=image.img_to_array(img)\n",
    "# print(x)\n",
    "print(x.shape)\n",
    "x=x/255\n",
    "ls.append(x)\n",
    "\n",
    "# x=x/255\n",
    "\n",
    "x = np.array(ls)\n",
    "\n",
    "\n",
    "\n",
    "\n",
    "\n",
    "print(x.shape)\n",
    "# x=np.expand_dims(x,axis=0)\n",
    "img_data=x\n",
    "print(img_data.shape)\n",
    "pred = model.predict(img_data)\n",
    "print(pred)\n",
    "\n",
    "a = []\n",
    "for i in pred:\n",
    "    temp = np.argmax(i)\n",
    "    a.append(temp)\n",
    "\n",
    "for i in a:\n",
    "    if i == 0:\n",
    "        print(\"Cataract\")\n",
    "    else:\n",
    "        print(\"Normal\")\n",
    "\n",
    "# a=np.argmax(model.predict(img_data), axis=1)\n",
    "# print(a)\n",
    "\n",
    "\n",
    "# if(a==0):\n",
    "#     print(\"Cataract\")\n",
    "# else:\n",
    "#     print(\"normal\")"
   ]
  },
  {
   "cell_type": "code",
   "execution_count": null,
   "id": "a6c402df",
   "metadata": {},
   "outputs": [],
   "source": []
  }
 ],
 "metadata": {
  "kernelspec": {
   "display_name": "Python 3",
   "language": "python",
   "name": "python3"
  },
  "language_info": {
   "codemirror_mode": {
    "name": "ipython",
    "version": 3
   },
   "file_extension": ".py",
   "mimetype": "text/x-python",
   "name": "python",
   "nbconvert_exporter": "python",
   "pygments_lexer": "ipython3",
   "version": "3.9.7"
  }
 },
 "nbformat": 4,
 "nbformat_minor": 5
}
